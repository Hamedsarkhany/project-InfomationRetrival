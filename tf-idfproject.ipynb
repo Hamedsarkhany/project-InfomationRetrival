{
 "cells": [
  {
   "cell_type": "code",
   "execution_count": 115,
   "id": "b61ab67f",
   "metadata": {},
   "outputs": [],
   "source": [
    "from sklearn.feature_extraction.text import TfidfVectorizer\n",
    "from sklearn.metrics.pairwise import cosine_similarity\n",
    "from tqdm import tqdm\n",
    "import numpy as np\n",
    "import csv\n",
    "import pandas as pd"
   ]
  },
  {
   "cell_type": "code",
   "execution_count": 116,
   "id": "dcac696c",
   "metadata": {
    "scrolled": true
   },
   "outputs": [],
   "source": [
    "data = pd.read_csv('yjc2.csv')"
   ]
  },
  {
   "cell_type": "code",
   "execution_count": 117,
   "id": "ea0eccc9",
   "metadata": {
    "scrolled": true
   },
   "outputs": [
    {
     "data": {
      "text/plain": [
       "1985"
      ]
     },
     "execution_count": 117,
     "metadata": {},
     "output_type": "execute_result"
    }
   ],
   "source": [
    "len(data)"
   ]
  },
  {
   "cell_type": "code",
   "execution_count": 118,
   "id": "2463067f",
   "metadata": {},
   "outputs": [
    {
     "name": "stdout",
     "output_type": "stream",
     "text": [
      "صدور دو هشدار هواشناسی درباره وزش باد و رگبار باران\n"
     ]
    }
   ],
   "source": [
    "print(data['title'][1])"
   ]
  },
  {
   "cell_type": "code",
   "execution_count": 119,
   "id": "1a704a4d",
   "metadata": {
    "scrolled": false
   },
   "outputs": [
    {
     "data": {
      "text/html": [
       "<div>\n",
       "<style scoped>\n",
       "    .dataframe tbody tr th:only-of-type {\n",
       "        vertical-align: middle;\n",
       "    }\n",
       "\n",
       "    .dataframe tbody tr th {\n",
       "        vertical-align: top;\n",
       "    }\n",
       "\n",
       "    .dataframe thead th {\n",
       "        text-align: right;\n",
       "    }\n",
       "</style>\n",
       "<table border=\"1\" class=\"dataframe\">\n",
       "  <thead>\n",
       "    <tr style=\"text-align: right;\">\n",
       "      <th></th>\n",
       "      <th>Unnamed: 0</th>\n",
       "      <th>url</th>\n",
       "      <th>text</th>\n",
       "      <th>title</th>\n",
       "    </tr>\n",
       "  </thead>\n",
       "  <tbody>\n",
       "    <tr>\n",
       "      <th>0</th>\n",
       "      <td>0</td>\n",
       "      <td>https://www.yjc.news/fa/news/8161304/ازافتتاح-...</td>\n",
       "      <td>این بسته خبری به مهمترین اخبار امروز دوشنبه بی...</td>\n",
       "      <td>ازافتتاح پارک علم و فناوری کشاورزی تا معرفی رو...</td>\n",
       "    </tr>\n",
       "    <tr>\n",
       "      <th>1</th>\n",
       "      <td>1</td>\n",
       "      <td>https://www.yjc.news/fa/news/8161627/صدور-دو-ه...</td>\n",
       "      <td>در گفت و گو با باشگاه خبرنگاران جوان مطرح شد\\n...</td>\n",
       "      <td>صدور دو هشدار هواشناسی درباره وزش باد و رگبار ...</td>\n",
       "    </tr>\n",
       "    <tr>\n",
       "      <th>2</th>\n",
       "      <td>2</td>\n",
       "      <td>https://www.yjc.news/fa/news/8161626/زلزله‌ای-...</td>\n",
       "      <td>NaN</td>\n",
       "      <td>زلزله‌ای به بزرگی ۴ و ۶ دهم ریشتر زنجان را لرزاند</td>\n",
       "    </tr>\n",
       "    <tr>\n",
       "      <th>3</th>\n",
       "      <td>3</td>\n",
       "      <td>https://www.yjc.news/fa/news/8161625/دانشگاه-ک...</td>\n",
       "      <td>مدیر اتحادیه شرکت‌های دانش بنیان استان اصفهان ...</td>\n",
       "      <td>دانشگاه کاشان میزبان کرسی علمی دانش بنیان در ج...</td>\n",
       "    </tr>\n",
       "    <tr>\n",
       "      <th>4</th>\n",
       "      <td>4</td>\n",
       "      <td>https://www.yjc.news/fa/news/8161623/آتش-گسترد...</td>\n",
       "      <td>سخنگوی سازمان آتش نشانی و خدمات ایمنی شهرداری ...</td>\n",
       "      <td>آتش گسترده کارگاه حلاجی در کاشان مهار شد</td>\n",
       "    </tr>\n",
       "  </tbody>\n",
       "</table>\n",
       "</div>"
      ],
      "text/plain": [
       "   Unnamed: 0                                                url  \\\n",
       "0           0  https://www.yjc.news/fa/news/8161304/ازافتتاح-...   \n",
       "1           1  https://www.yjc.news/fa/news/8161627/صدور-دو-ه...   \n",
       "2           2  https://www.yjc.news/fa/news/8161626/زلزله‌ای-...   \n",
       "3           3  https://www.yjc.news/fa/news/8161625/دانشگاه-ک...   \n",
       "4           4  https://www.yjc.news/fa/news/8161623/آتش-گسترد...   \n",
       "\n",
       "                                                text  \\\n",
       "0  این بسته خبری به مهمترین اخبار امروز دوشنبه بی...   \n",
       "1  در گفت و گو با باشگاه خبرنگاران جوان مطرح شد\\n...   \n",
       "2                                                NaN   \n",
       "3  مدیر اتحادیه شرکت‌های دانش بنیان استان اصفهان ...   \n",
       "4  سخنگوی سازمان آتش نشانی و خدمات ایمنی شهرداری ...   \n",
       "\n",
       "                                               title  \n",
       "0  ازافتتاح پارک علم و فناوری کشاورزی تا معرفی رو...  \n",
       "1  صدور دو هشدار هواشناسی درباره وزش باد و رگبار ...  \n",
       "2  زلزله‌ای به بزرگی ۴ و ۶ دهم ریشتر زنجان را لرزاند  \n",
       "3  دانشگاه کاشان میزبان کرسی علمی دانش بنیان در ج...  \n",
       "4           آتش گسترده کارگاه حلاجی در کاشان مهار شد  "
      ]
     },
     "execution_count": 119,
     "metadata": {},
     "output_type": "execute_result"
    }
   ],
   "source": [
    "data.head()"
   ]
  },
  {
   "cell_type": "code",
   "execution_count": 127,
   "id": "f8da2056",
   "metadata": {},
   "outputs": [
    {
     "data": {
      "text/plain": [
       "'آتش گسترده کارگاه حلاجی در کاشان مهار شد'"
      ]
     },
     "execution_count": 127,
     "metadata": {},
     "output_type": "execute_result"
    }
   ],
   "source": [
    "data['title'][4]"
   ]
  },
  {
   "cell_type": "code",
   "execution_count": 120,
   "id": "9a2e2cd1",
   "metadata": {},
   "outputs": [],
   "source": [
    "doc=data['title'].values # data is your dataframe\n",
    "# tf-idf\n",
    "vectorizer = TfidfVectorizer()\n",
    "tfidf_docs = vectorizer.fit_transform(doc)"
   ]
  },
  {
   "cell_type": "code",
   "execution_count": 121,
   "id": "01932905",
   "metadata": {},
   "outputs": [
    {
     "data": {
      "text/plain": [
       "((1985, 4563), 4563)"
      ]
     },
     "execution_count": 121,
     "metadata": {},
     "output_type": "execute_result"
    }
   ],
   "source": [
    "tfidf_docs.shape, len(vectorizer.vocabulary_)"
   ]
  },
  {
   "cell_type": "code",
   "execution_count": 122,
   "id": "145b6047",
   "metadata": {},
   "outputs": [
    {
     "data": {
      "text/plain": [
       "['ازافتتاح',\n",
       " 'پارک',\n",
       " 'علم',\n",
       " 'فناوری',\n",
       " 'کشاورزی',\n",
       " 'تا',\n",
       " 'معرفی',\n",
       " 'روستای',\n",
       " 'کجیران',\n",
       " 'صدور']"
      ]
     },
     "execution_count": 122,
     "metadata": {},
     "output_type": "execute_result"
    }
   ],
   "source": [
    "list(vectorizer.vocabulary_.keys())[:10]"
   ]
  },
  {
   "cell_type": "code",
   "execution_count": 123,
   "id": "b0bc304d",
   "metadata": {},
   "outputs": [],
   "source": [
    "# query\n",
    "query = 'تغییر شهرداران مناطق ۴ و ۱ بندرعباس'\n",
    "\n",
    "tfidf_query = vectorizer.transform([query])[0]"
   ]
  },
  {
   "cell_type": "code",
   "execution_count": 124,
   "id": "b857360b",
   "metadata": {},
   "outputs": [
    {
     "name": "stderr",
     "output_type": "stream",
     "text": [
      "1985it [00:00, 1997.74it/s]\n"
     ]
    }
   ],
   "source": [
    "# similarities\n",
    "cosines = []\n",
    "for d in tqdm(tfidf_docs):\n",
    "    cosines.append(float(cosine_similarity(d, tfidf_query)))"
   ]
  },
  {
   "cell_type": "code",
   "execution_count": 125,
   "id": "42cf1893",
   "metadata": {},
   "outputs": [
    {
     "name": "stdout",
     "output_type": "stream",
     "text": [
      "تغییر شهرداران مناطق ۴ و ۱ بندرعباس 1.0000000000000002\n",
      "سرمایه‌گذاری در شهر‌ها مدنظر شهرداران باشد 0.2470588051643907\n",
      "کارگران فولاد هرمزگان با جام قهرمانی به بندرعباس بازگشتند 0.1959858940498287\n",
      "تغییر الگوی کشت برای مدیریت کم آبی 0.18601927246035957\n",
      "بارش باران در برخی مناطق بشاگرد + فیلم 0.1804485849603602\n",
      "جهادتبیین منجر به تغییر رویکرد در دانشگاه‌ها شود 0.17820955388521423\n",
      "اطلاعیه قطع گاز در برخی از مناطق شهرستان قزوین 0.1768101865251167\n",
      "۱۱۰ هزار لیتر سوخت قاچاق در بندر شهید رجایی بندرعباس کشف شد 0.1739985092837428\n"
     ]
    }
   ],
   "source": [
    "# sorting\n",
    "k = 8\n",
    "sorted_ids = np.argsort(cosines)\n",
    "for i in range(k):\n",
    "    cur_id = sorted_ids[-i-1]\n",
    "    print(doc[cur_id], cosines[cur_id]) "
   ]
  },
  {
   "cell_type": "code",
   "execution_count": null,
   "id": "97b1d6c6",
   "metadata": {},
   "outputs": [],
   "source": []
  },
  {
   "cell_type": "code",
   "execution_count": null,
   "id": "2885a600",
   "metadata": {},
   "outputs": [],
   "source": []
  }
 ],
 "metadata": {
  "kernelspec": {
   "display_name": "Python 3 (ipykernel)",
   "language": "python",
   "name": "python3"
  },
  "language_info": {
   "codemirror_mode": {
    "name": "ipython",
    "version": 3
   },
   "file_extension": ".py",
   "mimetype": "text/x-python",
   "name": "python",
   "nbconvert_exporter": "python",
   "pygments_lexer": "ipython3",
   "version": "3.10.4"
  }
 },
 "nbformat": 4,
 "nbformat_minor": 5
}
